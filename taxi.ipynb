{
 "cells": [
  {
   "cell_type": "code",
   "execution_count": 1,
   "metadata": {},
   "outputs": [
    {
     "name": "stderr",
     "output_type": "stream",
     "text": [
      "c:\\Users\\gmaia\\anaconda3\\envs\\rlx\\lib\\site-packages\\tqdm\\auto.py:22: TqdmWarning: IProgress not found. Please update jupyter and ipywidgets. See https://ipywidgets.readthedocs.io/en/stable/user_install.html\n",
      "  from .autonotebook import tqdm as notebook_tqdm\n"
     ]
    }
   ],
   "source": [
    "import optuna\n",
    "import gym\n",
    "import numpy as np\n",
    "from for_optimize_params import run_nstep_sarsa_offpolicy, run_nstep_sarsa_cv\n",
    "from nstep_sarsa_off_policy import run_nstep_sarsa_offPolicy, run_nstep_sarsa_offPolicy_control_variate, run_nstep_sarsa_offPolicy_steps, run_nstep_sarsa_offPolicy_control_variate_steps\n",
    "from nstep_sarsa import run_nstep_sarsa, run_nstep_sarsa_step\n",
    "from wrappers import DiscreteObservationWrapper\n",
    "from util_experiments import test_greedy_Q_policy, repeated_exec_steps, repeated_exec\n",
    "from util_plot import plot_multiple_results"
   ]
  },
  {
   "cell_type": "code",
   "execution_count": 2,
   "metadata": {},
   "outputs": [],
   "source": [
    "ENV_NAME = \"Taxi-v3\"\n",
    "r_max_plot = 10\n",
    "EPISODES = 2000\n",
    "LR = 0.31\n",
    "GAMMA =  0.91\n",
    "EPSILON = 1\n",
    "NSTEPS = 18\n",
    "\n",
    "env = gym.make(ENV_NAME)"
   ]
  },
  {
   "cell_type": "code",
   "execution_count": null,
   "metadata": {},
   "outputs": [],
   "source": []
  }
 ],
 "metadata": {
  "kernelspec": {
   "display_name": "Python 3.9.13 ('rlx')",
   "language": "python",
   "name": "python3"
  },
  "language_info": {
   "codemirror_mode": {
    "name": "ipython",
    "version": 3
   },
   "file_extension": ".py",
   "mimetype": "text/x-python",
   "name": "python",
   "nbconvert_exporter": "python",
   "pygments_lexer": "ipython3",
   "version": "3.9.13"
  },
  "orig_nbformat": 4,
  "vscode": {
   "interpreter": {
    "hash": "2ac542b565cba42baba43049796bc7581f3f2a9eb103a4a9790c0de0f252f612"
   }
  }
 },
 "nbformat": 4,
 "nbformat_minor": 2
}
