{
 "cells": [
  {
   "cell_type": "code",
   "execution_count": 8,
   "metadata": {},
   "outputs": [],
   "source": [
    "import gym\n",
    "import numpy as np\n",
    "from tqdm import tqdm\n",
    "from nstep_sarsa_off_policy import run_nstep_sarsa_offPolicy, run_nstep_sarsa_offPolicy_control_variate, run_nstep_sarsa_offPolicy_steps, run_nstep_sarsa_offPolicy_control_variate_steps\n",
    "from nstep_sarsa import run_nstep_sarsa, run_nstep_sarsa_step\n",
    "from wrappers import DiscreteObservationWrapper\n",
    "from plot_graph import moving_mean_plot"
   ]
  },
  {
   "cell_type": "markdown",
   "metadata": {},
   "source": [
    "### SARSA off-policy n-steps"
   ]
  },
  {
   "cell_type": "code",
   "execution_count": 10,
   "metadata": {},
   "outputs": [],
   "source": [
    "# Melhores parâmetros para o sarsa off-policy\n",
    "\n",
    "ENV_NAME = \"CartPole-v1\"\n",
    "STEPS = 200_000\n",
    "LR = 0.4332311032873412\n",
    "GAMMA = 0.8488928377337801\n",
    "EPSILON = 1\n",
    "NSTEPS = 68\n",
    "B1 = 1\n",
    "B2= 69\n",
    "B3= 13\n",
    "B4 = 68\n",
    "\n",
    "env = gym.make(ENV_NAME)\n",
    "env = DiscreteObservationWrapper(env, [B1,B2,B3,B4])"
   ]
  },
  {
   "cell_type": "code",
   "execution_count": 11,
   "metadata": {},
   "outputs": [
    {
     "name": "stderr",
     "output_type": "stream",
     "text": [
      "100%|██████████| 20/20 [19:37<00:00, 58.85s/it]\n"
     ]
    }
   ],
   "source": [
    "results_offpolicy = []\n",
    "for execution in tqdm(range(20)):\n",
    "    all_return = run_nstep_sarsa_offPolicy_steps(env, STEPS, NSTEPS, LR, GAMMA, EPSILON)\n",
    "    results_offpolicy.append(all_return)"
   ]
  },
  {
   "cell_type": "code",
   "execution_count": 12,
   "metadata": {},
   "outputs": [],
   "source": [
    "results_offpolicy = np.array(results_offpolicy)"
   ]
  },
  {
   "cell_type": "code",
   "execution_count": null,
   "metadata": {},
   "outputs": [],
   "source": [
    "for i in range(1000, STEPS+1, 10_000):\n",
    "    moving_mean_plot(results_offpolicy.mean(axis=0), 200_000, i, 1)"
   ]
  },
  {
   "cell_type": "markdown",
   "metadata": {},
   "source": [
    "### SARSA off-policy n-steps control variate"
   ]
  },
  {
   "cell_type": "code",
   "execution_count": null,
   "metadata": {},
   "outputs": [],
   "source": [
    "# Melhores parâmetros para o sarsa off-policy control variate\n",
    "\n",
    "ENV_NAME = \"CartPole-v1\"\n",
    "STEPS = 200_000\n",
    "LR = 0.11422703163526324\n",
    "GAMMA = 0.6892685851849248\n",
    "EPSILON = 1\n",
    "NSTEPS = 5\n",
    "B1 = 7\n",
    "B2= 34\n",
    "B3= 95\n",
    "B4 = 84\n",
    "\n",
    "env = gym.make(ENV_NAME)\n",
    "env = DiscreteObservationWrapper(env, [B1,B2,B3,B4])"
   ]
  }
 ],
 "metadata": {
  "kernelspec": {
   "display_name": "Python 3.9.13 ('rlx')",
   "language": "python",
   "name": "python3"
  },
  "language_info": {
   "codemirror_mode": {
    "name": "ipython",
    "version": 3
   },
   "file_extension": ".py",
   "mimetype": "text/x-python",
   "name": "python",
   "nbconvert_exporter": "python",
   "pygments_lexer": "ipython3",
   "version": "3.9.13"
  },
  "orig_nbformat": 4,
  "vscode": {
   "interpreter": {
    "hash": "2ac542b565cba42baba43049796bc7581f3f2a9eb103a4a9790c0de0f252f612"
   }
  }
 },
 "nbformat": 4,
 "nbformat_minor": 2
}
